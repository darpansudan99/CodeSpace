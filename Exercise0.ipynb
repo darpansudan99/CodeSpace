{
  "nbformat": 4,
  "nbformat_minor": 0,
  "metadata": {
    "colab": {
      "provenance": [],
      "authorship_tag": "ABX9TyM7fx1+B0oKMnTw3HqmjQ6r",
      "include_colab_link": true
    },
    "kernelspec": {
      "name": "python3",
      "display_name": "Python 3"
    },
    "language_info": {
      "name": "python"
    }
  },
  "cells": [
    {
      "cell_type": "markdown",
      "metadata": {
        "id": "view-in-github",
        "colab_type": "text"
      },
      "source": [
        "<a href=\"https://colab.research.google.com/github/darpansudan99/CodeSpace/blob/main/Exercise0.ipynb\" target=\"_parent\"><img src=\"https://colab.research.google.com/assets/colab-badge.svg\" alt=\"Open In Colab\"/></a>"
      ]
    },
    {
      "cell_type": "code",
      "execution_count": 2,
      "metadata": {
        "colab": {
          "base_uri": "https://localhost:8080/"
        },
        "id": "lCOrmd42Im3b",
        "outputId": "3b57b60f-c718-4c72-fb97-e6fbdae9486a"
      },
      "outputs": [
        {
          "output_type": "stream",
          "name": "stdout",
          "text": [
            "3.9.16\n"
          ]
        }
      ],
      "source": [
        "# Exercise 0\n",
        "# Print the Python version to the console.\n",
        "\n",
        "# Expected result:\n",
        "\n",
        "# 3.8.10\n",
        "\n",
        "import sys\n",
        "import numpy as np\n",
        "\n",
        "np.__version__\n",
        "\n",
        "#OR\n",
        "\n",
        "import sys \n",
        "print(sys.version.split()[0]) \n"
      ]
    },
    {
      "cell_type": "code",
      "source": [],
      "metadata": {
        "id": "tA3n_EPqI0cT"
      },
      "execution_count": null,
      "outputs": []
    }
  ]
}